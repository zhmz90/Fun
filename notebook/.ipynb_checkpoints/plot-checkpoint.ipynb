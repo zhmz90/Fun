{
 "cells": [
  {
   "cell_type": "code",
   "execution_count": 3,
   "metadata": {
    "collapsed": false
   },
   "outputs": [],
   "source": [
    "using DataFrames\n",
    "using Gadfly\n",
    "using Vega"
   ]
  },
  {
   "cell_type": "code",
   "execution_count": 4,
   "metadata": {
    "collapsed": false
   },
   "outputs": [
    {
     "name": "stderr",
     "output_type": "stream",
     "text": [
      "WARNING: Method definition mergedata() in module Main at In[2]:2 overwritten at In[4]:2.\n"
     ]
    },
    {
     "data": {
      "text/plain": [
       "mergedata (generic function with 1 method)"
      ]
     },
     "execution_count": 4,
     "metadata": {},
     "output_type": "execute_result"
    }
   ],
   "source": [
    "function mergedata()\n",
    "    event = readtable(\"../data/event_type.csv\")\n",
    "    resource = readtable(\"../data/resource_type.csv\")\n",
    "    severity = readtable(\"../data/severity_type.csv\")\n",
    "    log_feature = readtable(\"../data/log_feature.csv\")\n",
    "    train = readtable(\"../data/train.csv\")\n",
    "    test = readtable(\"../data/test.csv\")\n",
    "\n",
    "    common = join(join(join(event,resource,on=:id,kind=:outer),severity,on=:id,kind=:outer),log_feature,on=:id,kind=:o\\\n",
    "uter)\n",
    "    @show size(common)\n",
    "\n",
    "    train = join(train,common,on=:id,kind=:left)\n",
    "    test = join(test,common,on=:id,kind=:left)\n",
    "\n",
    "    @show size(train),size(test)\n",
    "end\n"
   ]
  },
  {
   "cell_type": "code",
   "execution_count": 5,
   "metadata": {
    "collapsed": false
   },
   "outputs": [
    {
     "data": {
      "text/plain": [
       "31171x2 Array{Any,2}:\n",
       "      \"id\"  \"event_type\"   \n",
       "  6597      \"event_type 11\"\n",
       "  8011      \"event_type 15\"\n",
       "  2597      \"event_type 15\"\n",
       "  5022      \"event_type 15\"\n",
       "  5022      \"event_type 11\"\n",
       "  6852      \"event_type 11\"\n",
       "  6852      \"event_type 15\"\n",
       "  5611      \"event_type 15\"\n",
       " 14838      \"event_type 15\"\n",
       " 14838      \"event_type 11\"\n",
       "  2588      \"event_type 15\"\n",
       "  2588      \"event_type 11\"\n",
       "     ⋮                     \n",
       "  6288      \"event_type 11\"\n",
       " 13296      \"event_type 11\"\n",
       "  1989      \"event_type 11\"\n",
       " 15206      \"event_type 11\"\n",
       " 15084      \"event_type 11\"\n",
       "  8114      \"event_type 11\"\n",
       "  8955      \"event_type 11\"\n",
       "  3761      \"event_type 11\"\n",
       "  8720      \"event_type 11\"\n",
       "  6488      \"event_type 11\"\n",
       "   878      \"event_type 11\"\n",
       "  4464      \"event_type 11\""
      ]
     },
     "execution_count": 5,
     "metadata": {},
     "output_type": "execute_result"
    }
   ],
   "source": [
    "ev = readcsv(\"../data/event_type.csv\")"
   ]
  },
  {
   "cell_type": "code",
   "execution_count": 6,
   "metadata": {
    "collapsed": false
   },
   "outputs": [
    {
     "data": {
      "text/plain": [
       "(18553,54)"
      ]
     },
     "execution_count": 6,
     "metadata": {},
     "output_type": "execute_result"
    }
   ],
   "source": [
    "length(unique(ev[:,1])),length(unique(ev[:,2]))"
   ]
  },
  {
   "cell_type": "code",
   "execution_count": 7,
   "metadata": {
    "collapsed": false
   },
   "outputs": [
    {
     "data": {
      "text/plain": [
       "21077x2 Array{Any,2}:\n",
       "      \"id\"  \"resource_type\"  \n",
       "  6597      \"resource_type 8\"\n",
       "  8011      \"resource_type 8\"\n",
       "  2597      \"resource_type 8\"\n",
       "  5022      \"resource_type 8\"\n",
       "  6852      \"resource_type 8\"\n",
       "  5611      \"resource_type 8\"\n",
       " 14838      \"resource_type 8\"\n",
       "  2588      \"resource_type 8\"\n",
       "  4848      \"resource_type 8\"\n",
       "  6914      \"resource_type 8\"\n",
       "  5337      \"resource_type 8\"\n",
       " 10460      \"resource_type 8\"\n",
       "     ⋮                       \n",
       "  6288      \"resource_type 8\"\n",
       " 13296      \"resource_type 8\"\n",
       "  1989      \"resource_type 8\"\n",
       " 15206      \"resource_type 8\"\n",
       " 15084      \"resource_type 8\"\n",
       "  8114      \"resource_type 8\"\n",
       "  8955      \"resource_type 8\"\n",
       "  3761      \"resource_type 8\"\n",
       "  8720      \"resource_type 8\"\n",
       "  6488      \"resource_type 8\"\n",
       "   878      \"resource_type 8\"\n",
       "  4464      \"resource_type 8\""
      ]
     },
     "execution_count": 7,
     "metadata": {},
     "output_type": "execute_result"
    }
   ],
   "source": [
    "re = readcsv(\"../data/resource_type.csv\")"
   ]
  },
  {
   "cell_type": "code",
   "execution_count": 8,
   "metadata": {
    "collapsed": false
   },
   "outputs": [
    {
     "data": {
      "text/plain": [
       "(18553,11)"
      ]
     },
     "execution_count": 8,
     "metadata": {},
     "output_type": "execute_result"
    }
   ],
   "source": [
    "length(unique(re[:,1])),length(unique(re[:,2]))"
   ]
  },
  {
   "cell_type": "code",
   "execution_count": 9,
   "metadata": {
    "collapsed": false
   },
   "outputs": [
    {
     "data": {
      "text/plain": [
       "18553x2 Array{Any,2}:\n",
       "      \"id\"  \"severity_type\"  \n",
       "  6597      \"severity_type 2\"\n",
       "  8011      \"severity_type 2\"\n",
       "  2597      \"severity_type 2\"\n",
       "  5022      \"severity_type 1\"\n",
       "  6852      \"severity_type 1\"\n",
       "  5611      \"severity_type 2\"\n",
       " 14838      \"severity_type 1\"\n",
       "  2588      \"severity_type 1\"\n",
       "  4848      \"severity_type 1\"\n",
       "  6914      \"severity_type 1\"\n",
       "  5337      \"severity_type 1\"\n",
       " 10460      \"severity_type 1\"\n",
       "     ⋮                       \n",
       "  6288      \"severity_type 1\"\n",
       " 13296      \"severity_type 1\"\n",
       "  1989      \"severity_type 1\"\n",
       " 15206      \"severity_type 1\"\n",
       " 15084      \"severity_type 1\"\n",
       "  8114      \"severity_type 2\"\n",
       "  8955      \"severity_type 1\"\n",
       "  3761      \"severity_type 1\"\n",
       "  8720      \"severity_type 1\"\n",
       "  6488      \"severity_type 2\"\n",
       "   878      \"severity_type 2\"\n",
       "  4464      \"severity_type 1\""
      ]
     },
     "execution_count": 9,
     "metadata": {},
     "output_type": "execute_result"
    }
   ],
   "source": [
    "se = readcsv(\"../data/severity_type.csv\")"
   ]
  },
  {
   "cell_type": "code",
   "execution_count": 10,
   "metadata": {
    "collapsed": false
   },
   "outputs": [
    {
     "data": {
      "text/plain": [
       "(18553,6)"
      ]
     },
     "execution_count": 10,
     "metadata": {},
     "output_type": "execute_result"
    }
   ],
   "source": [
    "length(unique(se[:,1])),length(unique(se[:,2]))"
   ]
  },
  {
   "cell_type": "code",
   "execution_count": 11,
   "metadata": {
    "collapsed": false
   },
   "outputs": [
    {
     "data": {
      "text/plain": [
       "58672x3 Array{Any,2}:\n",
       "      \"id\"  \"log_feature\"    \"volume\"\n",
       "  6597      \"feature 68\"    6        \n",
       "  8011      \"feature 68\"    7        \n",
       "  2597      \"feature 68\"    1        \n",
       "  5022      \"feature 172\"   2        \n",
       "  5022      \"feature 56\"    1        \n",
       "  5022      \"feature 193\"   4        \n",
       "  5022      \"feature 71\"    3        \n",
       "  6852      \"feature 201\"   2        \n",
       "  6852      \"feature 56\"    1        \n",
       "  6852      \"feature 80\"    2        \n",
       "  5611      \"feature 80\"    2        \n",
       " 14838      \"feature 203\"   5        \n",
       "     ⋮                               \n",
       "  3761      \"feature 87\"    1        \n",
       "  3761      \"feature 209\"   1        \n",
       "  3761      \"feature 54\"    4        \n",
       "  3761      \"feature 170\"   4        \n",
       "  8720      \"feature 170\"   4        \n",
       "  8720      \"feature 155\"  10        \n",
       "  8720      \"feature 54\"    1        \n",
       "  8720      \"feature 209\"   1        \n",
       "  6488      \"feature 54\"    3        \n",
       "   878      \"feature 62\"    1        \n",
       "  4464      \"feature 209\"   1        \n",
       "  4464      \"feature 87\"    2        "
      ]
     },
     "execution_count": 11,
     "metadata": {},
     "output_type": "execute_result"
    }
   ],
   "source": [
    "log = readcsv(\"../data/log_feature.csv\")"
   ]
  },
  {
   "cell_type": "code",
   "execution_count": 12,
   "metadata": {
    "collapsed": false
   },
   "outputs": [
    {
     "data": {
      "text/plain": [
       "(18553,387)"
      ]
     },
     "execution_count": 12,
     "metadata": {},
     "output_type": "execute_result"
    }
   ],
   "source": [
    "length(unique(log[:,1])),length(unique(log[:,2]))"
   ]
  },
  {
   "cell_type": "code",
   "execution_count": 13,
   "metadata": {
    "collapsed": false
   },
   "outputs": [
    {
     "data": {
      "text/plain": [
       "7382x3 Array{Any,2}:\n",
       "      \"id\"  \"location\"        \"fault_severity\"\n",
       " 14121      \"location 118\"   1                \n",
       "  9320      \"location 91\"    0                \n",
       " 14394      \"location 152\"   1                \n",
       "  8218      \"location 931\"   1                \n",
       " 14804      \"location 120\"   0                \n",
       "  1080      \"location 664\"   0                \n",
       "  9731      \"location 640\"   0                \n",
       " 15505      \"location 122\"   0                \n",
       "  3443      \"location 263\"   1                \n",
       " 13300      \"location 613\"   1                \n",
       "  8976      \"location 760\"   1                \n",
       "  7965      \"location 519\"   0                \n",
       "     ⋮                                        \n",
       " 11613      \"location 478\"   0                \n",
       "  3450      \"location 444\"   1                \n",
       "  4065      \"location 238\"   0                \n",
       "  1628      \"location 224\"   1                \n",
       " 16687      \"location 1090\"  1                \n",
       "  6813      \"location 1115\"  1                \n",
       " 10455      \"location 1075\"  2                \n",
       "   870      \"location 167\"   0                \n",
       " 18068      \"location 106\"   0                \n",
       " 14111      \"location 1086\"  2                \n",
       " 15189      \"location 7\"     0                \n",
       " 17067      \"location 885\"   0                "
      ]
     },
     "execution_count": 13,
     "metadata": {},
     "output_type": "execute_result"
    }
   ],
   "source": [
    "tr = readcsv(\"../data/train.csv\")"
   ]
  },
  {
   "cell_type": "code",
   "execution_count": 14,
   "metadata": {
    "collapsed": false
   },
   "outputs": [
    {
     "data": {
      "text/plain": [
       "(7382,930,4)"
      ]
     },
     "execution_count": 14,
     "metadata": {},
     "output_type": "execute_result"
    }
   ],
   "source": [
    "length(unique(tr[:,1])),length(unique(tr[:,2])),length(unique(tr[:,3]))"
   ]
  },
  {
   "cell_type": "code",
   "execution_count": 15,
   "metadata": {
    "collapsed": false
   },
   "outputs": [
    {
     "data": {
      "text/plain": [
       "7381x2 Array{Any,2}:\n",
       " 14121  1\n",
       "  9320  0\n",
       " 14394  1\n",
       "  8218  1\n",
       " 14804  0\n",
       "  1080  0\n",
       "  9731  0\n",
       " 15505  0\n",
       "  3443  1\n",
       " 13300  1\n",
       "  8976  1\n",
       "  7965  0\n",
       " 10342  0\n",
       "     ⋮   \n",
       " 11613  0\n",
       "  3450  1\n",
       "  4065  0\n",
       "  1628  1\n",
       " 16687  1\n",
       "  6813  1\n",
       " 10455  2\n",
       "   870  0\n",
       " 18068  0\n",
       " 14111  2\n",
       " 15189  0\n",
       " 17067  0"
      ]
     },
     "execution_count": 15,
     "metadata": {},
     "output_type": "execute_result"
    }
   ],
   "source": [
    "train = tr[2:end,[1,3]]"
   ]
  },
  {
   "cell_type": "code",
   "execution_count": 16,
   "metadata": {
    "collapsed": false
   },
   "outputs": [
    {
     "data": {
      "text/plain": [
       "4-element Array{Any,1}:\n",
       " 4784\n",
       " 1871\n",
       "  726\n",
       "    0"
      ]
     },
     "execution_count": 16,
     "metadata": {},
     "output_type": "execute_result"
    }
   ],
   "source": [
    "[sum(train[:,2] .== i) for i=0:3]"
   ]
  },
  {
   "cell_type": "code",
   "execution_count": null,
   "metadata": {
    "collapsed": true
   },
   "outputs": [],
   "source": []
  },
  {
   "cell_type": "code",
   "execution_count": null,
   "metadata": {
    "collapsed": true
   },
   "outputs": [],
   "source": []
  },
  {
   "cell_type": "code",
   "execution_count": null,
   "metadata": {
    "collapsed": true
   },
   "outputs": [],
   "source": []
  }
 ],
 "metadata": {
  "kernelspec": {
   "display_name": "Julia 0.5.0-dev",
   "language": "julia",
   "name": "julia-0.5"
  },
  "language_info": {
   "file_extension": ".jl",
   "mimetype": "application/julia",
   "name": "julia",
   "version": "0.5.0"
  }
 },
 "nbformat": 4,
 "nbformat_minor": 0
}
