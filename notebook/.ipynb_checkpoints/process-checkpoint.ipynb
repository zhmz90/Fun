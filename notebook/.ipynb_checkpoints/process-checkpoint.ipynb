{
 "cells": [
  {
   "cell_type": "markdown",
   "metadata": {},
   "source": [
    "# Tel\n",
    "###  format event_type.csv"
   ]
  },
  {
   "cell_type": "code",
   "execution_count": null,
   "metadata": {
    "collapsed": false
   },
   "outputs": [],
   "source": [
    "function reformat(data::Array{ASCIIString,2})\n",
    "    data = data[2:end,:]\n",
    "    id_event = Dict{ASCIIString,Set{ASCIIString}}()\n",
    "    for i in 1:size(data,1)\n",
    "        id = data[i,1]\n",
    "        if in(id,keys(id_event))\n",
    "            push!(id_event[id],data[i,1])\n",
    "        else\n",
    "            id_event[id] = Set{ASCIIString}([data[i,2]])\n",
    "        end\n",
    "    end\n",
    "    \n",
    "    colname = sort(unique(data[:,2]))\n",
    "    lencol  = length(colname)\n",
    "    shape   = length(unique(data[:,1])),length(colname)+1\n",
    "    result  = Array{ASCIIString,2}(shape)\n",
    "    for (ind,id) in enumerate(keys(id_event))\n",
    "        vec = Array{ASCIIString,1}(lencol)\n",
    "        events = id_event[id]\n",
    "        for (ind,col) in enumerate(colname)\n",
    "            if in(col,events)\n",
    "                vec[ind] = \"1\"\n",
    "            else\n",
    "                vec[ind] = \"0\"\n",
    "            end\n",
    "        end\n",
    "        \n",
    "        result[ind,:] = vcat(id,vec)\n",
    "        @show result[ind,:]\n",
    "    end\n",
    "    \n",
    "    result\n",
    "end\n",
    "ev = readcsv(\"../data/event_type.csv\",ASCIIString)\n",
    "reformat(ev)"
   ]
  },
  {
   "cell_type": "code",
   "execution_count": 26,
   "metadata": {
    "collapsed": false
   },
   "outputs": [
    {
     "data": {
      "text/plain": [
       "31171x2 Array{ASCIIString,2}:\n",
       " \"id\"     \"event_type\"   \n",
       " \"6597\"   \"event_type 11\"\n",
       " \"8011\"   \"event_type 15\"\n",
       " \"2597\"   \"event_type 15\"\n",
       " \"5022\"   \"event_type 15\"\n",
       " \"5022\"   \"event_type 11\"\n",
       " \"6852\"   \"event_type 11\"\n",
       " \"6852\"   \"event_type 15\"\n",
       " \"5611\"   \"event_type 15\"\n",
       " \"14838\"  \"event_type 15\"\n",
       " \"14838\"  \"event_type 11\"\n",
       " \"2588\"   \"event_type 15\"\n",
       " \"2588\"   \"event_type 11\"\n",
       " ⋮                       \n",
       " \"6288\"   \"event_type 11\"\n",
       " \"13296\"  \"event_type 11\"\n",
       " \"1989\"   \"event_type 11\"\n",
       " \"15206\"  \"event_type 11\"\n",
       " \"15084\"  \"event_type 11\"\n",
       " \"8114\"   \"event_type 11\"\n",
       " \"8955\"   \"event_type 11\"\n",
       " \"3761\"   \"event_type 11\"\n",
       " \"8720\"   \"event_type 11\"\n",
       " \"6488\"   \"event_type 11\"\n",
       " \"878\"    \"event_type 11\"\n",
       " \"4464\"   \"event_type 11\""
      ]
     },
     "execution_count": 26,
     "metadata": {},
     "output_type": "execute_result"
    }
   ],
   "source": []
  },
  {
   "cell_type": "code",
   "execution_count": 7,
   "metadata": {
    "collapsed": false
   },
   "outputs": [
    {
     "data": {
      "text/plain": [
       "54-element Array{Any,1}:\n",
       " \"event_type\"   \n",
       " \"event_type 11\"\n",
       " \"event_type 15\"\n",
       " \"event_type 20\"\n",
       " \"event_type 7\" \n",
       " \"event_type 34\"\n",
       " \"event_type 35\"\n",
       " \"event_type 9\" \n",
       " \"event_type 2\" \n",
       " \"event_type 54\"\n",
       " \"event_type 1\" \n",
       " \"event_type 6\" \n",
       " \"event_type 30\"\n",
       " ⋮              \n",
       " \"event_type 47\"\n",
       " \"event_type 49\"\n",
       " \"event_type 53\"\n",
       " \"event_type 44\"\n",
       " \"event_type 42\"\n",
       " \"event_type 45\"\n",
       " \"event_type 26\"\n",
       " \"event_type 4\" \n",
       " \"event_type 43\"\n",
       " \"event_type 52\"\n",
       " \"event_type 51\"\n",
       " \"event_type 48\""
      ]
     },
     "execution_count": 7,
     "metadata": {},
     "output_type": "execute_result"
    }
   ],
   "source": [
    "unique(ev[:,2])"
   ]
  },
  {
   "cell_type": "code",
   "execution_count": null,
   "metadata": {
    "collapsed": true
   },
   "outputs": [],
   "source": []
  }
 ],
 "metadata": {
  "kernelspec": {
   "display_name": "Julia 0.5.0-dev",
   "language": "julia",
   "name": "julia-0.5"
  },
  "language_info": {
   "file_extension": ".jl",
   "mimetype": "application/julia",
   "name": "julia",
   "version": "0.5.0"
  }
 },
 "nbformat": 4,
 "nbformat_minor": 0
}
